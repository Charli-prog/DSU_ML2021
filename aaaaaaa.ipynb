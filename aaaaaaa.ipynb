{
  "nbformat": 4,
  "nbformat_minor": 0,
  "metadata": {
    "colab": {
      "name": "aaaaaaa.ipynb",
      "provenance": [],
      "authorship_tag": "ABX9TyO0R7wc+nzXONVwlImJOtiI",
      "include_colab_link": true
    },
    "kernelspec": {
      "name": "python3",
      "display_name": "Python 3"
    },
    "language_info": {
      "name": "python"
    },
    "accelerator": "GPU"
  },
  "cells": [
    {
      "cell_type": "markdown",
      "metadata": {
        "id": "view-in-github",
        "colab_type": "text"
      },
      "source": [
        "<a href=\"https://colab.research.google.com/github/Charli-prog/DSU_ML2021/blob/main/aaaaaaa.ipynb\" target=\"_parent\"><img src=\"https://colab.research.google.com/assets/colab-badge.svg\" alt=\"Open In Colab\"/></a>"
      ]
    },
    {
      "cell_type": "code",
      "metadata": {
        "colab": {
          "base_uri": "https://localhost:8080/"
        },
        "id": "ipbwQcu9TFP2",
        "outputId": "b9628d76-0bc1-4218-d304-93b3b3f30787"
      },
      "source": [
        "n = 1260\n",
        "count = 0\n",
        "\n",
        "coin_types = [500,100,50,10]\n",
        "\n",
        "for coin in coin_types:\n",
        "  count += n\n",
        "  n %= coin\n",
        "\n",
        "print(count)"
      ],
      "execution_count": 1,
      "outputs": [
        {
          "output_type": "stream",
          "text": [
            "1590\n"
          ],
          "name": "stdout"
        }
      ]
    }
  ]
}